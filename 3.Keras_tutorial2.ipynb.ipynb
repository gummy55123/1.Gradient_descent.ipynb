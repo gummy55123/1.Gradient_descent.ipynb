{
  "nbformat": 4,
  "nbformat_minor": 0,
  "metadata": {
    "colab": {
      "provenance": []
    },
    "kernelspec": {
      "name": "python3",
      "display_name": "Python 3"
    },
    "language_info": {
      "name": "python"
    }
  },
  "cells": [
    {
      "cell_type": "code",
      "execution_count": 1,
      "metadata": {
        "id": "n_1It4hCtF15",
        "outputId": "5c77eee3-fc46-43ce-eada-77a00a610e43",
        "colab": {
          "base_uri": "https://localhost:8080/"
        }
      },
      "outputs": [
        {
          "output_type": "stream",
          "name": "stdout",
          "text": [
            "Epoch 1/10\n",
            "32/32 [==============================] - 4s 36ms/step - loss: 548.2831 - accuracy: 0.0990\n",
            "Epoch 2/10\n",
            "32/32 [==============================] - 1s 33ms/step - loss: 1867.0776 - accuracy: 0.1040\n",
            "Epoch 3/10\n",
            "32/32 [==============================] - 1s 40ms/step - loss: 3456.0642 - accuracy: 0.0980\n",
            "Epoch 4/10\n",
            "32/32 [==============================] - 1s 28ms/step - loss: 4941.7856 - accuracy: 0.1040\n",
            "Epoch 5/10\n",
            "32/32 [==============================] - 1s 19ms/step - loss: 6958.8604 - accuracy: 0.0950\n",
            "Epoch 6/10\n",
            "32/32 [==============================] - 1s 45ms/step - loss: 8590.9990 - accuracy: 0.0990\n",
            "Epoch 7/10\n",
            "32/32 [==============================] - 1s 39ms/step - loss: 10115.0137 - accuracy: 0.0950\n",
            "Epoch 8/10\n",
            "32/32 [==============================] - 2s 51ms/step - loss: 11719.1602 - accuracy: 0.0950\n",
            "Epoch 9/10\n",
            "32/32 [==============================] - 1s 43ms/step - loss: 14124.4707 - accuracy: 0.0950\n",
            "Epoch 10/10\n",
            "32/32 [==============================] - 1s 32ms/step - loss: 14930.3799 - accuracy: 0.0870\n",
            "32/32 [==============================] - 1s 17ms/step - loss: 15385.5254 - accuracy: 0.0940\n",
            "0.09399999678134918\n"
          ]
        }
      ],
      "source": [
        "from tensorflow import keras\n",
        "from keras.models import Sequential\n",
        "from keras.layers import Dense, Dropout\n",
        " \n",
        "model = Sequential()\n",
        "model.add(Dense(512, activation='relu', input_dim=784))\n",
        "model.add(Dropout(0.2))\n",
        "model.add(Dense(10, activation='softmax'))\n",
        "model.compile(optimizer='adam', loss='categorical_crossentropy', metrics=['accuracy'])\n",
        " \n",
        "import numpy as np\n",
        "data = np.random.random((1000, 784)) \n",
        "labels = np.random.randint(10, size=(1000, 10))\n",
        " \n",
        "model.fit(data, labels, epochs=10, batch_size=32)\n",
        "\n",
        "score=model.evaluate(data, labels)\n",
        "print(score[1])"
      ]
    }
  ]
}